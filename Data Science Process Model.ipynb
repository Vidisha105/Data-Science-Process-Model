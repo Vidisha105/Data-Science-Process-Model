{
 "cells": [
  {
   "cell_type": "code",
   "execution_count": 1,
   "id": "f391fc04",
   "metadata": {},
   "outputs": [],
   "source": [
    "import pandas as pd\n",
    "import numpy as np\n",
    "import matplotlib.pyplot as plt\n",
    "import plotly.express as px\n",
    "import seaborn as sns\n",
    "\n",
    "from sklearn.tree import DecisionTreeClassifier\n",
    "from sklearn.neighbors import KNeighborsClassifier\n",
    "from sklearn.ensemble import RandomForestClassifier\n",
    "from sklearn.metrics import f1_score, confusion_matrix, accuracy_score, classification_report\n",
    "from sklearn.model_selection import GridSearchCV\n",
    "\n",
    "from sklearn import metrics\n",
    "from sklearn.model_selection import train_test_split, cross_validate\n",
    "from sklearn.metrics import roc_curve\n",
    "from sklearn.metrics import roc_auc_score"
   ]
  },
  {
   "cell_type": "code",
   "execution_count": 2,
   "id": "c8ff2059",
   "metadata": {},
   "outputs": [
    {
     "data": {
      "text/html": [
       "<div>\n",
       "<style scoped>\n",
       "    .dataframe tbody tr th:only-of-type {\n",
       "        vertical-align: middle;\n",
       "    }\n",
       "\n",
       "    .dataframe tbody tr th {\n",
       "        vertical-align: top;\n",
       "    }\n",
       "\n",
       "    .dataframe thead th {\n",
       "        text-align: right;\n",
       "    }\n",
       "</style>\n",
       "<table border=\"1\" class=\"dataframe\">\n",
       "  <thead>\n",
       "    <tr style=\"text-align: right;\">\n",
       "      <th></th>\n",
       "      <th>Pregnancies</th>\n",
       "      <th>Glucose</th>\n",
       "      <th>BloodPressure</th>\n",
       "      <th>SkinThickness</th>\n",
       "      <th>Insulin</th>\n",
       "      <th>BMI</th>\n",
       "      <th>DiabetesPedigreeFunction</th>\n",
       "      <th>Age</th>\n",
       "      <th>Outcome</th>\n",
       "    </tr>\n",
       "  </thead>\n",
       "  <tbody>\n",
       "    <tr>\n",
       "      <th>0</th>\n",
       "      <td>6</td>\n",
       "      <td>148</td>\n",
       "      <td>72</td>\n",
       "      <td>35</td>\n",
       "      <td>0</td>\n",
       "      <td>33.6</td>\n",
       "      <td>0.627</td>\n",
       "      <td>50</td>\n",
       "      <td>1</td>\n",
       "    </tr>\n",
       "    <tr>\n",
       "      <th>1</th>\n",
       "      <td>1</td>\n",
       "      <td>85</td>\n",
       "      <td>66</td>\n",
       "      <td>29</td>\n",
       "      <td>0</td>\n",
       "      <td>26.6</td>\n",
       "      <td>0.351</td>\n",
       "      <td>31</td>\n",
       "      <td>0</td>\n",
       "    </tr>\n",
       "    <tr>\n",
       "      <th>2</th>\n",
       "      <td>8</td>\n",
       "      <td>183</td>\n",
       "      <td>64</td>\n",
       "      <td>0</td>\n",
       "      <td>0</td>\n",
       "      <td>23.3</td>\n",
       "      <td>0.672</td>\n",
       "      <td>32</td>\n",
       "      <td>1</td>\n",
       "    </tr>\n",
       "    <tr>\n",
       "      <th>3</th>\n",
       "      <td>1</td>\n",
       "      <td>89</td>\n",
       "      <td>66</td>\n",
       "      <td>23</td>\n",
       "      <td>94</td>\n",
       "      <td>28.1</td>\n",
       "      <td>0.167</td>\n",
       "      <td>21</td>\n",
       "      <td>0</td>\n",
       "    </tr>\n",
       "    <tr>\n",
       "      <th>4</th>\n",
       "      <td>0</td>\n",
       "      <td>137</td>\n",
       "      <td>40</td>\n",
       "      <td>35</td>\n",
       "      <td>168</td>\n",
       "      <td>43.1</td>\n",
       "      <td>2.288</td>\n",
       "      <td>33</td>\n",
       "      <td>1</td>\n",
       "    </tr>\n",
       "  </tbody>\n",
       "</table>\n",
       "</div>"
      ],
      "text/plain": [
       "   Pregnancies  Glucose  BloodPressure  SkinThickness  Insulin   BMI  \\\n",
       "0            6      148             72             35        0  33.6   \n",
       "1            1       85             66             29        0  26.6   \n",
       "2            8      183             64              0        0  23.3   \n",
       "3            1       89             66             23       94  28.1   \n",
       "4            0      137             40             35      168  43.1   \n",
       "\n",
       "   DiabetesPedigreeFunction  Age  Outcome  \n",
       "0                     0.627   50        1  \n",
       "1                     0.351   31        0  \n",
       "2                     0.672   32        1  \n",
       "3                     0.167   21        0  \n",
       "4                     2.288   33        1  "
      ]
     },
     "execution_count": 2,
     "metadata": {},
     "output_type": "execute_result"
    }
   ],
   "source": [
    "df = pd.read_csv(r\"diabetes.csv\")\n",
    "df.head()"
   ]
  },
  {
   "cell_type": "markdown",
   "id": "4b748c87",
   "metadata": {},
   "source": [
    "# 1. Exploratory Data Analysis"
   ]
  },
  {
   "cell_type": "code",
   "execution_count": 3,
   "id": "aa17dbbe",
   "metadata": {},
   "outputs": [
    {
     "data": {
      "text/plain": [
       "(768, 9)"
      ]
     },
     "execution_count": 3,
     "metadata": {},
     "output_type": "execute_result"
    }
   ],
   "source": [
    "df.shape"
   ]
  },
  {
   "cell_type": "code",
   "execution_count": 4,
   "id": "8d2f17fd",
   "metadata": {},
   "outputs": [
    {
     "data": {
      "text/plain": [
       "False"
      ]
     },
     "execution_count": 4,
     "metadata": {},
     "output_type": "execute_result"
    }
   ],
   "source": [
    "df.isnull().values.any()"
   ]
  },
  {
   "cell_type": "code",
   "execution_count": 5,
   "id": "16673283",
   "metadata": {},
   "outputs": [
    {
     "data": {
      "text/plain": [
       "(array([300., 157.,  92.,  86.,  52.,  34.,  26.,  16.,   4.,   1.]),\n",
       " array([21., 27., 33., 39., 45., 51., 57., 63., 69., 75., 81.]),\n",
       " <BarContainer object of 10 artists>)"
      ]
     },
     "execution_count": 5,
     "metadata": {},
     "output_type": "execute_result"
    },
    {
     "data": {
      "image/png": "[encoded data removed]",
      "text/plain": [
       "<Figure size 432x288 with 1 Axes>"
      ]
     },
     "metadata": {
      "needs_background": "light"
     },
     "output_type": "display_data"
    }
   ],
   "source": [
    "plt.hist(df['Age'])"
   ]
  },
  {
   "cell_type": "markdown",
   "id": "672c93db",
   "metadata": {},
   "source": [
    "## 1.1 Converting outcome variable to categorical"
   ]
  },
  {
   "cell_type": "code",
   "execution_count": 6,
   "id": "9cde3253",
   "metadata": {},
   "outputs": [
    {
     "data": {
      "text/plain": [
       "Pregnancies                    int64\n",
       "Glucose                        int64\n",
       "BloodPressure                  int64\n",
       "SkinThickness                  int64\n",
       "Insulin                        int64\n",
       "BMI                          float64\n",
       "DiabetesPedigreeFunction     float64\n",
       "Age                            int64\n",
       "Outcome                     category\n",
       "dtype: object"
      ]
     },
     "execution_count": 6,
     "metadata": {},
     "output_type": "execute_result"
    }
   ],
   "source": [
    "df['Outcome'] = df['Outcome'].astype('category')\n",
    "df.dtypes"
   ]
  },
  {
   "cell_type": "code",
   "execution_count": 7,
   "id": "7e691753",
   "metadata": {},
   "outputs": [
    {
     "data": {
      "text/html": [
       "<style type=\"text/css\">\n",
       "#T_2eecf_row0_col0 {\n",
       "  background-color: #fbf3f9;\n",
       "  color: #000000;\n",
       "}\n",
       "#T_2eecf_row0_col1 {\n",
       "  background-color: #fbf4f9;\n",
       "  color: #000000;\n",
       "}\n",
       "#T_2eecf_row0_col2, #T_2eecf_row1_col2, #T_2eecf_row2_col2, #T_2eecf_row3_col2, #T_2eecf_row3_col3, #T_2eecf_row4_col2, #T_2eecf_row4_col3, #T_2eecf_row5_col2, #T_2eecf_row6_col0, #T_2eecf_row6_col1, #T_2eecf_row6_col2, #T_2eecf_row6_col3, #T_2eecf_row6_col4, #T_2eecf_row6_col5, #T_2eecf_row6_col6 {\n",
       "  background-color: #fff7fb;\n",
       "  color: #000000;\n",
       "}\n",
       "#T_2eecf_row0_col3 {\n",
       "  background-color: #fef6fa;\n",
       "  color: #000000;\n",
       "}\n",
       "#T_2eecf_row0_col4 {\n",
       "  background-color: #fcf4fa;\n",
       "  color: #000000;\n",
       "}\n",
       "#T_2eecf_row0_col5 {\n",
       "  background-color: #faf2f8;\n",
       "  color: #000000;\n",
       "}\n",
       "#T_2eecf_row0_col6 {\n",
       "  background-color: #fdf5fa;\n",
       "  color: #000000;\n",
       "}\n",
       "#T_2eecf_row1_col0, #T_2eecf_row1_col3, #T_2eecf_row1_col4, #T_2eecf_row1_col5, #T_2eecf_row4_col1, #T_2eecf_row4_col6, #T_2eecf_row7_col2 {\n",
       "  background-color: #023858;\n",
       "  color: #f1f1f1;\n",
       "}\n",
       "#T_2eecf_row1_col1, #T_2eecf_row5_col3 {\n",
       "  background-color: #c8cde4;\n",
       "  color: #000000;\n",
       "}\n",
       "#T_2eecf_row1_col6 {\n",
       "  background-color: #d4d4e8;\n",
       "  color: #000000;\n",
       "}\n",
       "#T_2eecf_row2_col0, #T_2eecf_row2_col5 {\n",
       "  background-color: #529bc7;\n",
       "  color: #f1f1f1;\n",
       "}\n",
       "#T_2eecf_row2_col1, #T_2eecf_row3_col0 {\n",
       "  background-color: #e3e0ee;\n",
       "  color: #000000;\n",
       "}\n",
       "#T_2eecf_row2_col3 {\n",
       "  background-color: #358fc0;\n",
       "  color: #f1f1f1;\n",
       "}\n",
       "#T_2eecf_row2_col4 {\n",
       "  background-color: #3b92c1;\n",
       "  color: #f1f1f1;\n",
       "}\n",
       "#T_2eecf_row2_col6 {\n",
       "  background-color: #e8e4f0;\n",
       "  color: #000000;\n",
       "}\n",
       "#T_2eecf_row3_col1 {\n",
       "  background-color: #eae6f1;\n",
       "  color: #000000;\n",
       "}\n",
       "#T_2eecf_row3_col4 {\n",
       "  background-color: #dddbec;\n",
       "  color: #000000;\n",
       "}\n",
       "#T_2eecf_row3_col5 {\n",
       "  background-color: #d6d6e9;\n",
       "  color: #000000;\n",
       "}\n",
       "#T_2eecf_row3_col6 {\n",
       "  background-color: #eee8f3;\n",
       "  color: #000000;\n",
       "}\n",
       "#T_2eecf_row4_col0 {\n",
       "  background-color: #2987bc;\n",
       "  color: #f1f1f1;\n",
       "}\n",
       "#T_2eecf_row4_col4 {\n",
       "  background-color: #cdd0e5;\n",
       "  color: #000000;\n",
       "}\n",
       "#T_2eecf_row4_col5 {\n",
       "  background-color: #03517e;\n",
       "  color: #f1f1f1;\n",
       "}\n",
       "#T_2eecf_row5_col0 {\n",
       "  background-color: #cccfe5;\n",
       "  color: #000000;\n",
       "}\n",
       "#T_2eecf_row5_col1 {\n",
       "  background-color: #f5eff6;\n",
       "  color: #000000;\n",
       "}\n",
       "#T_2eecf_row5_col4, #T_2eecf_row7_col0 {\n",
       "  background-color: #c9cee4;\n",
       "  color: #000000;\n",
       "}\n",
       "#T_2eecf_row5_col5 {\n",
       "  background-color: #ced0e6;\n",
       "  color: #000000;\n",
       "}\n",
       "#T_2eecf_row5_col6 {\n",
       "  background-color: #f4edf6;\n",
       "  color: #000000;\n",
       "}\n",
       "#T_2eecf_row7_col1 {\n",
       "  background-color: #f0eaf4;\n",
       "  color: #000000;\n",
       "}\n",
       "#T_2eecf_row7_col3, #T_2eecf_row7_col4 {\n",
       "  background-color: #d2d2e7;\n",
       "  color: #000000;\n",
       "}\n",
       "#T_2eecf_row7_col5 {\n",
       "  background-color: #c2cbe2;\n",
       "  color: #000000;\n",
       "}\n",
       "#T_2eecf_row7_col6 {\n",
       "  background-color: #f1ebf5;\n",
       "  color: #000000;\n",
       "}\n",
       "</style>\n",
       "<table id=\"T_2eecf_\">\n",
       "  <thead>\n",
       "    <tr>\n",
       "      <th class=\"blank level0\" >&nbsp;</th>\n",
       "      <th class=\"col_heading level0 col0\" >mean</th>\n",
       "      <th class=\"col_heading level0 col1\" >std</th>\n",
       "      <th class=\"col_heading level0 col2\" >min</th>\n",
       "      <th class=\"col_heading level0 col3\" >25%</th>\n",
       "      <th class=\"col_heading level0 col4\" >50%</th>\n",
       "      <th class=\"col_heading level0 col5\" >75%</th>\n",
       "      <th class=\"col_heading level0 col6\" >max</th>\n",
       "    </tr>\n",
       "  </thead>\n",
       "  <tbody>\n",
       "    <tr>\n",
       "      <th id=\"T_2eecf_level0_row0\" class=\"row_heading level0 row0\" >Pregnancies</th>\n",
       "      <td id=\"T_2eecf_row0_col0\" class=\"data row0 col0\" >3.845052</td>\n",
       "      <td id=\"T_2eecf_row0_col1\" class=\"data row0 col1\" >3.369578</td>\n",
       "      <td id=\"T_2eecf_row0_col2\" class=\"data row0 col2\" >0.000000</td>\n",
       "      <td id=\"T_2eecf_row0_col3\" class=\"data row0 col3\" >1.000000</td>\n",
       "      <td id=\"T_2eecf_row0_col4\" class=\"data row0 col4\" >3.000000</td>\n",
       "      <td id=\"T_2eecf_row0_col5\" class=\"data row0 col5\" >6.000000</td>\n",
       "      <td id=\"T_2eecf_row0_col6\" class=\"data row0 col6\" >17.000000</td>\n",
       "    </tr>\n",
       "    <tr>\n",
       "      <th id=\"T_2eecf_level0_row1\" class=\"row_heading level0 row1\" >Glucose</th>\n",
       "      <td id=\"T_2eecf_row1_col0\" class=\"data row1 col0\" >120.894531</td>\n",
       "      <td id=\"T_2eecf_row1_col1\" class=\"data row1 col1\" >31.972618</td>\n",
       "      <td id=\"T_2eecf_row1_col2\" class=\"data row1 col2\" >0.000000</td>\n",
       "      <td id=\"T_2eecf_row1_col3\" class=\"data row1 col3\" >99.000000</td>\n",
       "      <td id=\"T_2eecf_row1_col4\" class=\"data row1 col4\" >117.000000</td>\n",
       "      <td id=\"T_2eecf_row1_col5\" class=\"data row1 col5\" >140.250000</td>\n",
       "      <td id=\"T_2eecf_row1_col6\" class=\"data row1 col6\" >199.000000</td>\n",
       "    </tr>\n",
       "    <tr>\n",
       "      <th id=\"T_2eecf_level0_row2\" class=\"row_heading level0 row2\" >BloodPressure</th>\n",
       "      <td id=\"T_2eecf_row2_col0\" class=\"data row2 col0\" >69.105469</td>\n",
       "      <td id=\"T_2eecf_row2_col1\" class=\"data row2 col1\" >19.355807</td>\n",
       "      <td id=\"T_2eecf_row2_col2\" class=\"data row2 col2\" >0.000000</td>\n",
       "      <td id=\"T_2eecf_row2_col3\" class=\"data row2 col3\" >62.000000</td>\n",
       "      <td id=\"T_2eecf_row2_col4\" class=\"data row2 col4\" >72.000000</td>\n",
       "      <td id=\"T_2eecf_row2_col5\" class=\"data row2 col5\" >80.000000</td>\n",
       "      <td id=\"T_2eecf_row2_col6\" class=\"data row2 col6\" >122.000000</td>\n",
       "    </tr>\n",
       "    <tr>\n",
       "      <th id=\"T_2eecf_level0_row3\" class=\"row_heading level0 row3\" >SkinThickness</th>\n",
       "      <td id=\"T_2eecf_row3_col0\" class=\"data row3 col0\" >20.536458</td>\n",
       "      <td id=\"T_2eecf_row3_col1\" class=\"data row3 col1\" >15.952218</td>\n",
       "      <td id=\"T_2eecf_row3_col2\" class=\"data row3 col2\" >0.000000</td>\n",
       "      <td id=\"T_2eecf_row3_col3\" class=\"data row3 col3\" >0.000000</td>\n",
       "      <td id=\"T_2eecf_row3_col4\" class=\"data row3 col4\" >23.000000</td>\n",
       "      <td id=\"T_2eecf_row3_col5\" class=\"data row3 col5\" >32.000000</td>\n",
       "      <td id=\"T_2eecf_row3_col6\" class=\"data row3 col6\" >99.000000</td>\n",
       "    </tr>\n",
       "    <tr>\n",
       "      <th id=\"T_2eecf_level0_row4\" class=\"row_heading level0 row4\" >Insulin</th>\n",
       "      <td id=\"T_2eecf_row4_col0\" class=\"data row4 col0\" >79.799479</td>\n",
       "      <td id=\"T_2eecf_row4_col1\" class=\"data row4 col1\" >115.244002</td>\n",
       "      <td id=\"T_2eecf_row4_col2\" class=\"data row4 col2\" >0.000000</td>\n",
       "      <td id=\"T_2eecf_row4_col3\" class=\"data row4 col3\" >0.000000</td>\n",
       "      <td id=\"T_2eecf_row4_col4\" class=\"data row4 col4\" >30.500000</td>\n",
       "      <td id=\"T_2eecf_row4_col5\" class=\"data row4 col5\" >127.250000</td>\n",
       "      <td id=\"T_2eecf_row4_col6\" class=\"data row4 col6\" >846.000000</td>\n",
       "    </tr>\n",
       "    <tr>\n",
       "      <th id=\"T_2eecf_level0_row5\" class=\"row_heading level0 row5\" >BMI</th>\n",
       "      <td id=\"T_2eecf_row5_col0\" class=\"data row5 col0\" >31.992578</td>\n",
       "      <td id=\"T_2eecf_row5_col1\" class=\"data row5 col1\" >7.884160</td>\n",
       "      <td id=\"T_2eecf_row5_col2\" class=\"data row5 col2\" >0.000000</td>\n",
       "      <td id=\"T_2eecf_row5_col3\" class=\"data row5 col3\" >27.300000</td>\n",
       "      <td id=\"T_2eecf_row5_col4\" class=\"data row5 col4\" >32.000000</td>\n",
       "      <td id=\"T_2eecf_row5_col5\" class=\"data row5 col5\" >36.600000</td>\n",
       "      <td id=\"T_2eecf_row5_col6\" class=\"data row5 col6\" >67.100000</td>\n",
       "    </tr>\n",
       "    <tr>\n",
       "      <th id=\"T_2eecf_level0_row6\" class=\"row_heading level0 row6\" >DiabetesPedigreeFunction</th>\n",
       "      <td id=\"T_2eecf_row6_col0\" class=\"data row6 col0\" >0.471876</td>\n",
       "      <td id=\"T_2eecf_row6_col1\" class=\"data row6 col1\" >0.331329</td>\n",
       "      <td id=\"T_2eecf_row6_col2\" class=\"data row6 col2\" >0.078000</td>\n",
       "      <td id=\"T_2eecf_row6_col3\" class=\"data row6 col3\" >0.243750</td>\n",
       "      <td id=\"T_2eecf_row6_col4\" class=\"data row6 col4\" >0.372500</td>\n",
       "      <td id=\"T_2eecf_row6_col5\" class=\"data row6 col5\" >0.626250</td>\n",
       "      <td id=\"T_2eecf_row6_col6\" class=\"data row6 col6\" >2.420000</td>\n",
       "    </tr>\n",
       "    <tr>\n",
       "      <th id=\"T_2eecf_level0_row7\" class=\"row_heading level0 row7\" >Age</th>\n",
       "      <td id=\"T_2eecf_row7_col0\" class=\"data row7 col0\" >33.240885</td>\n",
       "      <td id=\"T_2eecf_row7_col1\" class=\"data row7 col1\" >11.760232</td>\n",
       "      <td id=\"T_2eecf_row7_col2\" class=\"data row7 col2\" >21.000000</td>\n",
       "      <td id=\"T_2eecf_row7_col3\" class=\"data row7 col3\" >24.000000</td>\n",
       "      <td id=\"T_2eecf_row7_col4\" class=\"data row7 col4\" >29.000000</td>\n",
       "      <td id=\"T_2eecf_row7_col5\" class=\"data row7 col5\" >41.000000</td>\n",
       "      <td id=\"T_2eecf_row7_col6\" class=\"data row7 col6\" >81.000000</td>\n",
       "    </tr>\n",
       "  </tbody>\n",
       "</table>\n"
      ],
      "text/plain": [
       "<pandas.io.formats.style.Styler at 0x1b914655ac0>"
      ]
     },
     "execution_count": 7,
     "metadata": {},
     "output_type": "execute_result"
    }
   ],
   "source": [
    "df.describe()[1:].T.style.background_gradient()"
   ]
  },
  {
   "cell_type": "markdown",
   "id": "9f17e396",
   "metadata": {},
   "source": [
    "## 1.2 Checking the correlation between the variables"
   ]
  },
  {
   "cell_type": "code",
   "execution_count": 8,
   "id": "4bca1adc",
   "metadata": {},
   "outputs": [
    {
     "data": {
      "text/plain": [
       "<AxesSubplot:>"
      ]
     },
     "execution_count": 8,
     "metadata": {},
     "output_type": "execute_result"
    },
    {
     "data": {
      "image/png": "[encoded data removed]",
      "text/plain": [
       "<Figure size 1080x864 with 2 Axes>"
      ]
     },
     "metadata": {
      "needs_background": "light"
     },
     "output_type": "display_data"
    }
   ],
   "source": [
    "plt.figure(figsize=(15,12))\n",
    "sns.heatmap(df.corr(),annot=True)"
   ]
  },
  {
   "cell_type": "markdown",
   "id": "af0efa90",
   "metadata": {},
   "source": [
    "## 1.2 Checking 0s in predictor columns"
   ]
  },
  {
   "cell_type": "code",
   "execution_count": 9,
   "id": "ada5d319",
   "metadata": {},
   "outputs": [
    {
     "name": "stdout",
     "output_type": "stream",
     "text": [
      "Os in Glucose is: 5\n",
      "Os in BloodPressure is: 35\n",
      "Os in Skin Thickness is: 227\n",
      "Os in Insulin is: 374\n",
      "Os in BMI is: 11\n",
      "Os in DiabetesPedigreeFunction is: 0\n",
      "Os in Age is: 0\n"
     ]
    }
   ],
   "source": [
    "##Calculating 0s in Glucose, BloodPressure, SkinThickness, Insulin, BMI, DiabetesPedigreeFunction and Age\n",
    "print('Os in Glucose is:', sum(df['Glucose'] == 0))\n",
    "print('Os in BloodPressure is:', sum(df['BloodPressure'] == 0))\n",
    "print('Os in Skin Thickness is:', sum(df['SkinThickness'] == 0))     \n",
    "print('Os in Insulin is:', sum(df['Insulin'] == 0)) \n",
    "print('Os in BMI is:', sum(df['BMI'] == 0)) \n",
    "print('Os in DiabetesPedigreeFunction is:', sum(df['DiabetesPedigreeFunction'] == 0)) \n",
    "print('Os in Age is:', sum(df['Age'] == 0)) "
   ]
  },
  {
   "cell_type": "markdown",
   "id": "fa7193d6",
   "metadata": {},
   "source": [
    "## 1.3 Checking the distribution of various columns"
   ]
  },
  {
   "cell_type": "markdown",
   "id": "9c6190ec",
   "metadata": {},
   "source": [
    "This is done to assess what kind of imputations can be done for 0s."
   ]
  },
  {
   "cell_type": "code",
   "execution_count": 10,
   "id": "406ccf0b",
   "metadata": {},
   "outputs": [
    {
     "data": {
      "text/plain": [
       "(array([  5.,   0.,   4.,  32., 156., 211., 163.,  95.,  56.,  46.]),\n",
       " array([  0. ,  19.9,  39.8,  59.7,  79.6,  99.5, 119.4, 139.3, 159.2,\n",
       "        179.1, 199. ]),\n",
       " <BarContainer object of 10 artists>)"
      ]
     },
     "execution_count": 10,
     "metadata": {},
     "output_type": "execute_result"
    },
    {
     "data": {
      "image/png": "[encoded data removed]",
      "text/plain": [
       "<Figure size 432x288 with 1 Axes>"
      ]
     },
     "metadata": {
      "needs_background": "light"
     },
     "output_type": "display_data"
    }
   ],
   "source": [
    "plt.hist(df['Glucose'])"
   ]
  },
  {
   "cell_type": "code",
   "execution_count": 11,
   "id": "2bc44520",
   "metadata": {},
   "outputs": [
    {
     "data": {
      "text/plain": [
       "(array([ 35.,   1.,   2.,  13., 107., 261., 243.,  87.,  14.,   5.]),\n",
       " array([  0. ,  12.2,  24.4,  36.6,  48.8,  61. ,  73.2,  85.4,  97.6,\n",
       "        109.8, 122. ]),\n",
       " <BarContainer object of 10 artists>)"
      ]
     },
     "execution_count": 11,
     "metadata": {},
     "output_type": "execute_result"
    },
    {
     "data": {
      "image/png": "[encoded data removed]",
      "text/plain": [
       "<Figure size 432x288 with 1 Axes>"
      ]
     },
     "metadata": {
      "needs_background": "light"
     },
     "output_type": "display_data"
    }
   ],
   "source": [
    "plt.hist(df['BloodPressure'])"
   ]
  },
  {
   "cell_type": "code",
   "execution_count": 12,
   "id": "40b4141d",
   "metadata": {},
   "outputs": [
    {
     "data": {
      "text/plain": [
       "(array([231., 107., 165., 175.,  78.,   9.,   2.,   0.,   0.,   1.]),\n",
       " array([ 0. ,  9.9, 19.8, 29.7, 39.6, 49.5, 59.4, 69.3, 79.2, 89.1, 99. ]),\n",
       " <BarContainer object of 10 artists>)"
      ]
     },
     "execution_count": 12,
     "metadata": {},
     "output_type": "execute_result"
    },
    {
     "data": {
      "image/png": "[encoded data removed]",
      "text/plain": [
       "<Figure size 432x288 with 1 Axes>"
      ]
     },
     "metadata": {
      "needs_background": "light"
     },
     "output_type": "display_data"
    }
   ],
   "source": [
    "plt.hist(df['SkinThickness'])"
   ]
  },
  {
   "cell_type": "code",
   "execution_count": 13,
   "id": "a8495454",
   "metadata": {},
   "outputs": [
    {
     "data": {
      "text/plain": [
       "(array([487., 155.,  70.,  30.,   8.,   9.,   5.,   1.,   2.,   1.]),\n",
       " array([  0. ,  84.6, 169.2, 253.8, 338.4, 423. , 507.6, 592.2, 676.8,\n",
       "        761.4, 846. ]),\n",
       " <BarContainer object of 10 artists>)"
      ]
     },
     "execution_count": 13,
     "metadata": {},
     "output_type": "execute_result"
    },
    {
     "data": {
      "image/png": "[encoded data removed]",
      "text/plain": [
       "<Figure size 432x288 with 1 Axes>"
      ]
     },
     "metadata": {
      "needs_background": "light"
     },
     "output_type": "display_data"
    }
   ],
   "source": [
    "plt.hist(df['Insulin'])"
   ]
  },
  {
   "cell_type": "code",
   "execution_count": 14,
   "id": "12da28ec",
   "metadata": {},
   "outputs": [
    {
     "data": {
      "text/plain": [
       "(array([ 11.,   0.,  15., 156., 268., 224.,  78.,  12.,   3.,   1.]),\n",
       " array([ 0.  ,  6.71, 13.42, 20.13, 26.84, 33.55, 40.26, 46.97, 53.68,\n",
       "        60.39, 67.1 ]),\n",
       " <BarContainer object of 10 artists>)"
      ]
     },
     "execution_count": 14,
     "metadata": {},
     "output_type": "execute_result"
    },
    {
     "data": {
      "image/png": "[encoded data removed]",
      "text/plain": [
       "<Figure size 432x288 with 1 Axes>"
      ]
     },
     "metadata": {
      "needs_background": "light"
     },
     "output_type": "display_data"
    }
   ],
   "source": [
    "plt.hist(df['BMI'])"
   ]
  },
  {
   "cell_type": "markdown",
   "id": "98a4ceb9",
   "metadata": {},
   "source": [
    "# 2. Data Pre Processing"
   ]
  },
  {
   "cell_type": "markdown",
   "id": "19e5879d",
   "metadata": {},
   "source": [
    "## 2.1 Missing value imputation"
   ]
  },
  {
   "cell_type": "markdown",
   "id": "33b8ab82",
   "metadata": {},
   "source": [
    "Using KNN imputer to replace 0s with mean value from n_neighbors nearest neighbors"
   ]
  },
  {
   "cell_type": "code",
   "execution_count": 15,
   "id": "ded47aa9",
   "metadata": {},
   "outputs": [],
   "source": [
    "from sklearn.impute import KNNImputer\n",
    "for i in [ 'Glucose', 'BloodPressure', 'SkinThickness', 'Insulin','BMI']:\n",
    "    df[i]=df[i].replace(0,np.nan)\n",
    "\n",
    "\n",
    "imputer = KNNImputer()\n",
    "# fit on the dataset\n",
    "imputer.fit(df)\n",
    "# transform the dataset\n",
    "Xtrans = imputer.transform(df)"
   ]
  },
  {
   "cell_type": "code",
   "execution_count": 16,
   "id": "b8c2c670",
   "metadata": {},
   "outputs": [
    {
     "data": {
      "text/html": [
       "<div>\n",
       "<style scoped>\n",
       "    .dataframe tbody tr th:only-of-type {\n",
       "        vertical-align: middle;\n",
       "    }\n",
       "\n",
       "    .dataframe tbody tr th {\n",
       "        vertical-align: top;\n",
       "    }\n",
       "\n",
       "    .dataframe thead th {\n",
       "        text-align: right;\n",
       "    }\n",
       "</style>\n",
       "<table border=\"1\" class=\"dataframe\">\n",
       "  <thead>\n",
       "    <tr style=\"text-align: right;\">\n",
       "      <th></th>\n",
       "      <th>Pregnancies</th>\n",
       "      <th>Glucose</th>\n",
       "      <th>BloodPressure</th>\n",
       "      <th>SkinThickness</th>\n",
       "      <th>Insulin</th>\n",
       "      <th>BMI</th>\n",
       "      <th>DiabetesPedigreeFunction</th>\n",
       "      <th>Age</th>\n",
       "      <th>Outcome</th>\n",
       "    </tr>\n",
       "  </thead>\n",
       "  <tbody>\n",
       "    <tr>\n",
       "      <th>0</th>\n",
       "      <td>6.0</td>\n",
       "      <td>148.0</td>\n",
       "      <td>72.0</td>\n",
       "      <td>35.0</td>\n",
       "      <td>169.0</td>\n",
       "      <td>33.6</td>\n",
       "      <td>0.627</td>\n",
       "      <td>50.0</td>\n",
       "      <td>1.0</td>\n",
       "    </tr>\n",
       "    <tr>\n",
       "      <th>1</th>\n",
       "      <td>1.0</td>\n",
       "      <td>85.0</td>\n",
       "      <td>66.0</td>\n",
       "      <td>29.0</td>\n",
       "      <td>58.6</td>\n",
       "      <td>26.6</td>\n",
       "      <td>0.351</td>\n",
       "      <td>31.0</td>\n",
       "      <td>0.0</td>\n",
       "    </tr>\n",
       "    <tr>\n",
       "      <th>2</th>\n",
       "      <td>8.0</td>\n",
       "      <td>183.0</td>\n",
       "      <td>64.0</td>\n",
       "      <td>25.8</td>\n",
       "      <td>164.6</td>\n",
       "      <td>23.3</td>\n",
       "      <td>0.672</td>\n",
       "      <td>32.0</td>\n",
       "      <td>1.0</td>\n",
       "    </tr>\n",
       "    <tr>\n",
       "      <th>3</th>\n",
       "      <td>1.0</td>\n",
       "      <td>89.0</td>\n",
       "      <td>66.0</td>\n",
       "      <td>23.0</td>\n",
       "      <td>94.0</td>\n",
       "      <td>28.1</td>\n",
       "      <td>0.167</td>\n",
       "      <td>21.0</td>\n",
       "      <td>0.0</td>\n",
       "    </tr>\n",
       "    <tr>\n",
       "      <th>4</th>\n",
       "      <td>0.0</td>\n",
       "      <td>137.0</td>\n",
       "      <td>40.0</td>\n",
       "      <td>35.0</td>\n",
       "      <td>168.0</td>\n",
       "      <td>43.1</td>\n",
       "      <td>2.288</td>\n",
       "      <td>33.0</td>\n",
       "      <td>1.0</td>\n",
       "    </tr>\n",
       "  </tbody>\n",
       "</table>\n",
       "</div>"
      ],
      "text/plain": [
       "   Pregnancies  Glucose  BloodPressure  SkinThickness  Insulin   BMI  \\\n",
       "0          6.0    148.0           72.0           35.0    169.0  33.6   \n",
       "1          1.0     85.0           66.0           29.0     58.6  26.6   \n",
       "2          8.0    183.0           64.0           25.8    164.6  23.3   \n",
       "3          1.0     89.0           66.0           23.0     94.0  28.1   \n",
       "4          0.0    137.0           40.0           35.0    168.0  43.1   \n",
       "\n",
       "   DiabetesPedigreeFunction   Age  Outcome  \n",
       "0                     0.627  50.0      1.0  \n",
       "1                     0.351  31.0      0.0  \n",
       "2                     0.672  32.0      1.0  \n",
       "3                     0.167  21.0      0.0  \n",
       "4                     2.288  33.0      1.0  "
      ]
     },
     "execution_count": 16,
     "metadata": {},
     "output_type": "execute_result"
    }
   ],
   "source": [
    "df = pd.DataFrame(Xtrans, columns=df.columns)\n",
    "df.head()"
   ]
  },
  {
   "cell_type": "code",
   "execution_count": 17,
   "id": "4f246608",
   "metadata": {},
   "outputs": [],
   "source": [
    "####Incase of outliers we will impute 0 with medians else with mean\n",
    "#df['Glucose'] = df['Glucose'].replace(0,df['Glucose'].mean())\n",
    "#df['BloodPressure'] = df['BloodPressure'].replace(0,df['BloodPressure'].mean())\n",
    "#df['SkinThickness'] = df['SkinThickness'].replace(0,df['SkinThickness'].median())\n",
    "#df['Insulin'] = df['Insulin'].replace(0,df['Insulin'].median())\n",
    "#df['BMI'] = df['BMI'].replace(0,df['BMI'].mean())"
   ]
  },
  {
   "cell_type": "code",
   "execution_count": 18,
   "id": "7a2a69e5",
   "metadata": {},
   "outputs": [
    {
     "name": "stdout",
     "output_type": "stream",
     "text": [
      "Os in Glucose is: 0\n",
      "Os in BloodPressure is: 0\n",
      "Os in Skin Thickness is: 0\n",
      "Os in Insulin is: 0\n",
      "Os in BMI is: 0\n",
      "Os in DiabetesPedigreeFunction is: 0\n",
      "Os in Age is: 0\n"
     ]
    }
   ],
   "source": [
    "##Calculating 0s in Glucose, BloodPressure, SkinThickness, Insulin, BMI, DiabetesPedigreeFunction and Age\n",
    "print('Os in Glucose is:', sum(df['Glucose'] == 0))\n",
    "print('Os in BloodPressure is:', sum(df['BloodPressure'] == 0))\n",
    "print('Os in Skin Thickness is:', sum(df['SkinThickness'] == 0))     \n",
    "print('Os in Insulin is:', sum(df['Insulin'] == 0)) \n",
    "print('Os in BMI is:', sum(df['BMI'] == 0)) \n",
    "print('Os in DiabetesPedigreeFunction is:', sum(df['DiabetesPedigreeFunction'] == 0)) \n",
    "print('Os in Age is:', sum(df['Age'] == 0)) "
   ]
  },
  {
   "cell_type": "markdown",
   "id": "f34deea9",
   "metadata": {},
   "source": [
    "## 2.1 Oversampling to balance the dataset"
   ]
  },
  {
   "cell_type": "code",
   "execution_count": 19,
   "id": "9b210f0d",
   "metadata": {},
   "outputs": [
    {
     "data": {
      "text/plain": [
       "1.0    500\n",
       "0.0    500\n",
       "Name: Outcome, dtype: int64"
      ]
     },
     "execution_count": 19,
     "metadata": {},
     "output_type": "execute_result"
    }
   ],
   "source": [
    "X=df.iloc[:,:-1]\n",
    "y=df.iloc[:,-1]\n",
    "from imblearn.over_sampling import SMOTE\n",
    "oversample = SMOTE()\n",
    "X, y = oversample.fit_resample(X, y)\n",
    "y.value_counts()"
   ]
  },
  {
   "cell_type": "markdown",
   "id": "e008ad6e",
   "metadata": {},
   "source": [
    "## 2.2 Scaling the dataset"
   ]
  },
  {
   "cell_type": "code",
   "execution_count": 20,
   "id": "3ffc237b",
   "metadata": {},
   "outputs": [],
   "source": [
    "from sklearn.preprocessing import StandardScaler\n",
    "sc_X = StandardScaler()\n",
    "X =  pd.DataFrame(sc_X.fit_transform(X),\n",
    "        columns=['Pregnancies', 'Glucose', 'BloodPressure', 'SkinThickness', 'Insulin',\n",
    "       'BMI', 'DiabetesPedigreeFunction', 'Age'])"
   ]
  },
  {
   "cell_type": "code",
   "execution_count": 21,
   "id": "77947cc3",
   "metadata": {},
   "outputs": [
    {
     "data": {
      "text/html": [
       "<div>\n",
       "<style scoped>\n",
       "    .dataframe tbody tr th:only-of-type {\n",
       "        vertical-align: middle;\n",
       "    }\n",
       "\n",
       "    .dataframe tbody tr th {\n",
       "        vertical-align: top;\n",
       "    }\n",
       "\n",
       "    .dataframe thead th {\n",
       "        text-align: right;\n",
       "    }\n",
       "</style>\n",
       "<table border=\"1\" class=\"dataframe\">\n",
       "  <thead>\n",
       "    <tr style=\"text-align: right;\">\n",
       "      <th></th>\n",
       "      <th>Pregnancies</th>\n",
       "      <th>Glucose</th>\n",
       "      <th>BloodPressure</th>\n",
       "      <th>SkinThickness</th>\n",
       "      <th>Insulin</th>\n",
       "      <th>BMI</th>\n",
       "      <th>DiabetesPedigreeFunction</th>\n",
       "      <th>Age</th>\n",
       "    </tr>\n",
       "  </thead>\n",
       "  <tbody>\n",
       "    <tr>\n",
       "      <th>0</th>\n",
       "      <td>0.558528</td>\n",
       "      <td>0.686774</td>\n",
       "      <td>-0.104472</td>\n",
       "      <td>0.577458</td>\n",
       "      <td>0.074751</td>\n",
       "      <td>0.097593</td>\n",
       "      <td>0.465566</td>\n",
       "      <td>1.366488</td>\n",
       "    </tr>\n",
       "    <tr>\n",
       "      <th>1</th>\n",
       "      <td>-0.919583</td>\n",
       "      <td>-1.321401</td>\n",
       "      <td>-0.613511</td>\n",
       "      <td>-0.090717</td>\n",
       "      <td>-1.019800</td>\n",
       "      <td>-0.952929</td>\n",
       "      <td>-0.400276</td>\n",
       "      <td>-0.284429</td>\n",
       "    </tr>\n",
       "    <tr>\n",
       "      <th>2</th>\n",
       "      <td>1.149772</td>\n",
       "      <td>1.802426</td>\n",
       "      <td>-0.783191</td>\n",
       "      <td>-0.447078</td>\n",
       "      <td>0.031128</td>\n",
       "      <td>-1.448175</td>\n",
       "      <td>0.606735</td>\n",
       "      <td>-0.197539</td>\n",
       "    </tr>\n",
       "    <tr>\n",
       "      <th>3</th>\n",
       "      <td>-0.919583</td>\n",
       "      <td>-1.193898</td>\n",
       "      <td>-0.613511</td>\n",
       "      <td>-0.758893</td>\n",
       "      <td>-0.668830</td>\n",
       "      <td>-0.727817</td>\n",
       "      <td>-0.977503</td>\n",
       "      <td>-1.153334</td>\n",
       "    </tr>\n",
       "    <tr>\n",
       "      <th>4</th>\n",
       "      <td>-1.215205</td>\n",
       "      <td>0.336140</td>\n",
       "      <td>-2.819350</td>\n",
       "      <td>0.577458</td>\n",
       "      <td>0.064837</td>\n",
       "      <td>1.523302</td>\n",
       "      <td>5.676298</td>\n",
       "      <td>-0.110649</td>\n",
       "    </tr>\n",
       "    <tr>\n",
       "      <th>...</th>\n",
       "      <td>...</td>\n",
       "      <td>...</td>\n",
       "      <td>...</td>\n",
       "      <td>...</td>\n",
       "      <td>...</td>\n",
       "      <td>...</td>\n",
       "      <td>...</td>\n",
       "      <td>...</td>\n",
       "    </tr>\n",
       "    <tr>\n",
       "      <th>995</th>\n",
       "      <td>-1.035010</td>\n",
       "      <td>-0.154443</td>\n",
       "      <td>-0.432513</td>\n",
       "      <td>0.074949</td>\n",
       "      <td>0.037209</td>\n",
       "      <td>0.156907</td>\n",
       "      <td>-0.705376</td>\n",
       "      <td>-0.190094</td>\n",
       "    </tr>\n",
       "    <tr>\n",
       "      <th>996</th>\n",
       "      <td>-0.758687</td>\n",
       "      <td>2.132471</td>\n",
       "      <td>-0.660800</td>\n",
       "      <td>0.574536</td>\n",
       "      <td>5.151811</td>\n",
       "      <td>-0.394996</td>\n",
       "      <td>-0.662609</td>\n",
       "      <td>1.864755</td>\n",
       "    </tr>\n",
       "    <tr>\n",
       "      <th>997</th>\n",
       "      <td>0.073339</td>\n",
       "      <td>-0.307950</td>\n",
       "      <td>-0.013162</td>\n",
       "      <td>-0.562531</td>\n",
       "      <td>0.296532</td>\n",
       "      <td>-0.642753</td>\n",
       "      <td>-0.215493</td>\n",
       "      <td>1.065685</td>\n",
       "    </tr>\n",
       "    <tr>\n",
       "      <th>998</th>\n",
       "      <td>0.480595</td>\n",
       "      <td>0.240513</td>\n",
       "      <td>-0.274151</td>\n",
       "      <td>-0.751553</td>\n",
       "      <td>-0.315570</td>\n",
       "      <td>0.303438</td>\n",
       "      <td>0.198912</td>\n",
       "      <td>-0.492570</td>\n",
       "    </tr>\n",
       "    <tr>\n",
       "      <th>999</th>\n",
       "      <td>0.257937</td>\n",
       "      <td>2.136988</td>\n",
       "      <td>-0.358278</td>\n",
       "      <td>-0.033632</td>\n",
       "      <td>1.737240</td>\n",
       "      <td>0.367097</td>\n",
       "      <td>0.038550</td>\n",
       "      <td>-0.116490</td>\n",
       "    </tr>\n",
       "  </tbody>\n",
       "</table>\n",
       "<p>1000 rows × 8 columns</p>\n",
       "</div>"
      ],
      "text/plain": [
       "     Pregnancies   Glucose  BloodPressure  SkinThickness   Insulin       BMI  \\\n",
       "0       0.558528  0.686774      -0.104472       0.577458  0.074751  0.097593   \n",
       "1      -0.919583 -1.321401      -0.613511      -0.090717 -1.019800 -0.952929   \n",
       "2       1.149772  1.802426      -0.783191      -0.447078  0.031128 -1.448175   \n",
       "3      -0.919583 -1.193898      -0.613511      -0.758893 -0.668830 -0.727817   \n",
       "4      -1.215205  0.336140      -2.819350       0.577458  0.064837  1.523302   \n",
       "..           ...       ...            ...            ...       ...       ...   \n",
       "995    -1.035010 -0.154443      -0.432513       0.074949  0.037209  0.156907   \n",
       "996    -0.758687  2.132471      -0.660800       0.574536  5.151811 -0.394996   \n",
       "997     0.073339 -0.307950      -0.013162      -0.562531  0.296532 -0.642753   \n",
       "998     0.480595  0.240513      -0.274151      -0.751553 -0.315570  0.303438   \n",
       "999     0.257937  2.136988      -0.358278      -0.033632  1.737240  0.367097   \n",
       "\n",
       "     DiabetesPedigreeFunction       Age  \n",
       "0                    0.465566  1.366488  \n",
       "1                   -0.400276 -0.284429  \n",
       "2                    0.606735 -0.197539  \n",
       "3                   -0.977503 -1.153334  \n",
       "4                    5.676298 -0.110649  \n",
       "..                        ...       ...  \n",
       "995                 -0.705376 -0.190094  \n",
       "996                 -0.662609  1.864755  \n",
       "997                 -0.215493  1.065685  \n",
       "998                  0.198912 -0.492570  \n",
       "999                  0.038550 -0.116490  \n",
       "\n",
       "[1000 rows x 8 columns]"
      ]
     },
     "execution_count": 21,
     "metadata": {},
     "output_type": "execute_result"
    }
   ],
   "source": [
    "X"
   ]
  },
  {
   "cell_type": "markdown",
   "id": "9630a62e",
   "metadata": {},
   "source": [
    "# 3. Model Development"
   ]
  },
  {
   "cell_type": "markdown",
   "id": "093ca430",
   "metadata": {},
   "source": [
    "## 3.1 Test and Train Split"
   ]
  },
  {
   "cell_type": "code",
   "execution_count": 22,
   "id": "b47581d1",
   "metadata": {},
   "outputs": [],
   "source": [
    "X_train, X_test, y_train, y_test = train_test_split(X, y, test_size=0.2, stratify=y, random_state=42)"
   ]
  },
  {
   "cell_type": "code",
   "execution_count": 23,
   "id": "4b1311c7",
   "metadata": {},
   "outputs": [],
   "source": [
    "model_comparison = {}"
   ]
  },
  {
   "cell_type": "markdown",
   "id": "8f5413b0",
   "metadata": {},
   "source": [
    "## 3.2 DecisionTreeClassifier"
   ]
  },
  {
   "cell_type": "code",
   "execution_count": 24,
   "id": "4f5cb9be",
   "metadata": {},
   "outputs": [
    {
     "name": "stdout",
     "output_type": "stream",
     "text": [
      "Searching for best hyperparameters ...\n",
      "Best Hyperparameters: {'max_depth': 5}\n",
      "\n",
      "\n",
      "              precision    recall  f1-score   support\n",
      "\n",
      "         0.0       0.85      0.71      0.77       100\n",
      "         1.0       0.75      0.87      0.81       100\n",
      "\n",
      "    accuracy                           0.79       200\n",
      "   macro avg       0.80      0.79      0.79       200\n",
      "weighted avg       0.80      0.79      0.79       200\n",
      "\n"
     ]
    }
   ],
   "source": [
    "parameters = {'max_depth': [1,2,3,4,5,6,7]}\n",
    "\n",
    "Tree_model = DecisionTreeClassifier()\n",
    "\n",
    "clf = GridSearchCV(Tree_model, parameters)\n",
    "print(\"Searching for best hyperparameters ...\")\n",
    "clf.fit(X_train, y_train)\n",
    "print(f'Best Hyperparameters: {clf.best_params_}')\n",
    "\n",
    "y_pred = clf.predict(X_test)\n",
    "model_comparison['DecisionTreeClassifier'] = [accuracy_score(y_test,y_pred), f1_score(y_test,y_pred, average='weighted')]\n",
    "print('\\n')\n",
    "print(classification_report(y_test,y_pred, zero_division=1))"
   ]
  },
  {
   "cell_type": "markdown",
   "id": "9a5d7c58",
   "metadata": {},
   "source": [
    "### 3.2.1 Confusion Matrix"
   ]
  },
  {
   "cell_type": "code",
   "execution_count": 25,
   "id": "9efb670f",
   "metadata": {},
   "outputs": [
    {
     "data": {
      "image/png": "[encoded data removed]",
      "text/plain": [
       "<Figure size 432x288 with 2 Axes>"
      ]
     },
     "metadata": {
      "needs_background": "light"
     },
     "output_type": "display_data"
    }
   ],
   "source": [
    "cnf_matrix = metrics.confusion_matrix(y_test, y_pred)\n",
    "p = sns.heatmap(pd.DataFrame(cnf_matrix), annot=True,cmap=\"Reds\",fmt='g')\n",
    "plt.title('Confusion matrix', y=1)\n",
    "plt.show()"
   ]
  },
  {
   "cell_type": "markdown",
   "id": "ef5de5e0",
   "metadata": {},
   "source": [
    "### 3.2.2 Cross Validation"
   ]
  },
  {
   "cell_type": "code",
   "execution_count": 26,
   "id": "0886f561",
   "metadata": {},
   "outputs": [
    {
     "data": {
      "text/plain": [
       "test_precision    0.750586\n",
       "test_recall       0.710000\n",
       "test_f1           0.727196\n",
       "test_accuracy     0.736250\n",
       "dtype: float64"
      ]
     },
     "execution_count": 26,
     "metadata": {},
     "output_type": "execute_result"
    }
   ],
   "source": [
    "scores = cross_validate(Tree_model, X_train, y_train, scoring=['precision', 'recall', 'f1', 'accuracy'], cv=5)\n",
    "df_scores = pd.DataFrame(scores, index=range(1, 6))\n",
    "model_comparison['DecisionTreeClassifier'] = df_scores.mean()[2:]\n",
    "model_comparison['DecisionTreeClassifier']"
   ]
  },
  {
   "cell_type": "markdown",
   "id": "d8faab01",
   "metadata": {},
   "source": [
    "### 3.2.3 ROC AUC Curve"
   ]
  },
  {
   "cell_type": "code",
   "execution_count": 27,
   "id": "edf8580f",
   "metadata": {},
   "outputs": [
    {
     "data": {
      "image/png": "[encoded data removed]",
      "text/plain": [
       "<Figure size 432x288 with 1 Axes>"
      ]
     },
     "metadata": {
      "needs_background": "light"
     },
     "output_type": "display_data"
    }
   ],
   "source": [
    "y_pred_proba = clf.predict_proba(X_test)[:,1]\n",
    "fpr, tpr, thresholds = roc_curve(y_test, y_pred_proba)\n",
    "plt.plot([0,1],[0,1])\n",
    "plt.plot(fpr,tpr, label='Decision Tree')\n",
    "plt.title('Decision Tree ROC curve')\n",
    "plt.show()\n"
   ]
  },
  {
   "cell_type": "code",
   "execution_count": 28,
   "id": "f4ebc113",
   "metadata": {},
   "outputs": [
    {
     "data": {
      "text/plain": [
       "0.8367"
      ]
     },
     "execution_count": 28,
     "metadata": {},
     "output_type": "execute_result"
    }
   ],
   "source": [
    "roc_auc_score(y_test,y_pred_proba)"
   ]
  },
  {
   "cell_type": "markdown",
   "id": "ec823e9b",
   "metadata": {},
   "source": [
    "## 3.3 K Nearest Neighbors "
   ]
  },
  {
   "cell_type": "code",
   "execution_count": 29,
   "id": "9eb8d7d8",
   "metadata": {},
   "outputs": [
    {
     "name": "stdout",
     "output_type": "stream",
     "text": [
      "Searching for best hyperparameters ...\n",
      "Best Hyperparameters: {'n_neighbors': 20}\n",
      "\n",
      "\n",
      "              precision    recall  f1-score   support\n",
      "\n",
      "         0.0       0.82      0.66      0.73       100\n",
      "         1.0       0.72      0.86      0.78       100\n",
      "\n",
      "    accuracy                           0.76       200\n",
      "   macro avg       0.77      0.76      0.76       200\n",
      "weighted avg       0.77      0.76      0.76       200\n",
      "\n"
     ]
    }
   ],
   "source": [
    "parameters = {'n_neighbors': [20,30,40,50,60]}\n",
    "\n",
    "K_model = KNeighborsClassifier()\n",
    "\n",
    "clf = GridSearchCV(K_model, parameters)\n",
    "print(\"Searching for best hyperparameters ...\")\n",
    "clf.fit(X_train, y_train)\n",
    "print(f'Best Hyperparameters: {clf.best_params_}')\n",
    "\n",
    "y_pred = clf.predict(X_test)\n",
    "model_comparison['KNeighborsClassifier'] = [accuracy_score(y_test,y_pred), f1_score(y_test,y_pred, average='weighted')]\n",
    "print('\\n')\n",
    "print(classification_report(y_test,y_pred, zero_division=1))"
   ]
  },
  {
   "cell_type": "markdown",
   "id": "3df00bfe",
   "metadata": {},
   "source": [
    "### 3.3.1 Confusion Matrix"
   ]
  },
  {
   "cell_type": "code",
   "execution_count": 30,
   "id": "0fb08212",
   "metadata": {},
   "outputs": [
    {
     "data": {
      "image/png": "[encoded data removed]",
      "text/plain": [
       "<Figure size 432x288 with 2 Axes>"
      ]
     },
     "metadata": {
      "needs_background": "light"
     },
     "output_type": "display_data"
    }
   ],
   "source": [
    "cnf_matrix = metrics.confusion_matrix(y_test, y_pred)\n",
    "p = sns.heatmap(pd.DataFrame(cnf_matrix), annot=True,cmap=\"Reds\",fmt='g')\n",
    "plt.title('Confusion matrix', y=1)\n",
    "plt.show()"
   ]
  },
  {
   "cell_type": "markdown",
   "id": "13605c50",
   "metadata": {},
   "source": [
    "### 3.3.2 Cross Validation"
   ]
  },
  {
   "cell_type": "code",
   "execution_count": 31,
   "id": "9b019abc",
   "metadata": {},
   "outputs": [
    {
     "data": {
      "text/plain": [
       "test_precision    0.746381\n",
       "test_recall       0.842500\n",
       "test_f1           0.791082\n",
       "test_accuracy     0.777500\n",
       "dtype: float64"
      ]
     },
     "execution_count": 31,
     "metadata": {},
     "output_type": "execute_result"
    }
   ],
   "source": [
    "scores = cross_validate(K_model, X_train, y_train, scoring=['precision', 'recall', 'f1', 'accuracy'], cv=5)\n",
    "df_scores = pd.DataFrame(scores, index=range(1, 6))\n",
    "model_comparison['KNeighborsClassifier'] = df_scores.mean()[2:]\n",
    "model_comparison['KNeighborsClassifier']"
   ]
  },
  {
   "cell_type": "markdown",
   "id": "a0c17943",
   "metadata": {},
   "source": [
    "### 3.3.3 ROC AUC Curve"
   ]
  },
  {
   "cell_type": "code",
   "execution_count": 32,
   "id": "dd1a5138",
   "metadata": {},
   "outputs": [
    {
     "data": {
      "image/png": "[encoded data removed]",
      "text/plain": [
       "<Figure size 432x288 with 1 Axes>"
      ]
     },
     "metadata": {
      "needs_background": "light"
     },
     "output_type": "display_data"
    }
   ],
   "source": [
    "y_pred_proba = clf.predict_proba(X_test)[:,1]\n",
    "fpr, tpr, thresholds = roc_curve(y_test, y_pred_proba)\n",
    "plt.plot([0,1],[0,1])\n",
    "plt.plot(fpr,tpr)\n",
    "plt.title('Knn Neighbour Classifier ROC curve')\n",
    "plt.show()\n"
   ]
  },
  {
   "cell_type": "code",
   "execution_count": 33,
   "id": "0ce938d5",
   "metadata": {},
   "outputs": [
    {
     "data": {
      "text/plain": [
       "0.8475"
      ]
     },
     "execution_count": 33,
     "metadata": {},
     "output_type": "execute_result"
    }
   ],
   "source": [
    "roc_auc_score(y_test,y_pred_proba)"
   ]
  },
  {
   "cell_type": "markdown",
   "id": "08467a70",
   "metadata": {},
   "source": [
    "## 3.4 Random Forest"
   ]
  },
  {
   "cell_type": "code",
   "execution_count": 34,
   "id": "581e19ea",
   "metadata": {},
   "outputs": [
    {
     "name": "stdout",
     "output_type": "stream",
     "text": [
      "Searching for best hyperparameters ...\n",
      "Best Hyperparameters: {'max_depth': 22, 'n_estimators': 160}\n",
      "              precision    recall  f1-score   support\n",
      "\n",
      "         0.0       0.84      0.74      0.79       100\n",
      "         1.0       0.77      0.86      0.81       100\n",
      "\n",
      "    accuracy                           0.80       200\n",
      "   macro avg       0.80      0.80      0.80       200\n",
      "weighted avg       0.80      0.80      0.80       200\n",
      "\n"
     ]
    }
   ],
   "source": [
    "parameters = {'n_estimators': [160,180,200], 'max_depth':[18,20,22]}\n",
    "\n",
    "rf = RandomForestClassifier()\n",
    "\n",
    "clf = GridSearchCV(rf, parameters)\n",
    "print(\"Searching for best hyperparameters ...\")\n",
    "clf.fit(X_train, y_train)\n",
    "print(f'Best Hyperparameters: {clf.best_params_}')\n",
    "\n",
    "y_pred = clf.predict(X_test)\n",
    "print(classification_report(y_test,y_pred, zero_division=1))"
   ]
  },
  {
   "cell_type": "markdown",
   "id": "78c87eaa",
   "metadata": {},
   "source": [
    "### 3.4.1 Confusion Matrix"
   ]
  },
  {
   "cell_type": "code",
   "execution_count": 35,
   "id": "6153dc92",
   "metadata": {},
   "outputs": [
    {
     "data": {
      "image/png": "[encoded data removed]",
      "text/plain": [
       "<Figure size 432x288 with 2 Axes>"
      ]
     },
     "metadata": {
      "needs_background": "light"
     },
     "output_type": "display_data"
    }
   ],
   "source": [
    "cnf_matrix = metrics.confusion_matrix(y_test, y_pred)\n",
    "p = sns.heatmap(pd.DataFrame(cnf_matrix), annot=True,cmap=\"Reds\",fmt='g')\n",
    "plt.title('Confusion matrix', y=1)\n",
    "plt.show()"
   ]
  },
  {
   "cell_type": "markdown",
   "id": "cb9da7c9",
   "metadata": {},
   "source": [
    "### 3.4.1 Cross Validation"
   ]
  },
  {
   "cell_type": "code",
   "execution_count": 36,
   "id": "74332fcf",
   "metadata": {},
   "outputs": [
    {
     "data": {
      "text/plain": [
       "test_precision    0.803221\n",
       "test_recall       0.830000\n",
       "test_f1           0.815405\n",
       "test_accuracy     0.812500\n",
       "dtype: float64"
      ]
     },
     "execution_count": 36,
     "metadata": {},
     "output_type": "execute_result"
    }
   ],
   "source": [
    "scores = cross_validate(rf, X_train, y_train, scoring=['precision', 'recall', 'f1', 'accuracy'], cv=5)\n",
    "df_scores = pd.DataFrame(scores, index=range(1, 6))\n",
    "model_comparison['RandomForestClassifier'] = df_scores.mean()[2:]\n",
    "model_comparison['RandomForestClassifier']"
   ]
  },
  {
   "cell_type": "markdown",
   "id": "60b507e4",
   "metadata": {},
   "source": [
    "### 3.4.2 ROC AUC Curve"
   ]
  },
  {
   "cell_type": "code",
   "execution_count": 37,
   "id": "21017ea5",
   "metadata": {},
   "outputs": [
    {
     "data": {
      "image/png": "[encoded data removed]",
      "text/plain": [
       "<Figure size 432x288 with 1 Axes>"
      ]
     },
     "metadata": {
      "needs_background": "light"
     },
     "output_type": "display_data"
    }
   ],
   "source": [
    "y_pred_proba = clf.predict_proba(X_test)[:,1]\n",
    "fpr, tpr, thresholds = roc_curve(y_test, y_pred_proba)\n",
    "plt.plot([0,1],[0,1])\n",
    "plt.plot(fpr,tpr)\n",
    "plt.title('Random Forest Classifier ROC curve')\n",
    "plt.show()"
   ]
  },
  {
   "cell_type": "code",
   "execution_count": 38,
   "id": "8e7b256c",
   "metadata": {},
   "outputs": [
    {
     "data": {
      "text/plain": [
       "0.90515"
      ]
     },
     "execution_count": 38,
     "metadata": {},
     "output_type": "execute_result"
    }
   ],
   "source": [
    "roc_auc_score(y_test,y_pred_proba)"
   ]
  },
  {
   "cell_type": "markdown",
   "id": "bd6fdc7c",
   "metadata": {},
   "source": [
    "# 3. Model Comparision"
   ]
  },
  {
   "cell_type": "code",
   "execution_count": 39,
   "id": "9ec7d2e2",
   "metadata": {},
   "outputs": [
    {
     "data": {
      "text/html": [
       "<div>\n",
       "<style scoped>\n",
       "    .dataframe tbody tr th:only-of-type {\n",
       "        vertical-align: middle;\n",
       "    }\n",
       "\n",
       "    .dataframe tbody tr th {\n",
       "        vertical-align: top;\n",
       "    }\n",
       "\n",
       "    .dataframe thead th {\n",
       "        text-align: right;\n",
       "    }\n",
       "</style>\n",
       "<table border=\"1\" class=\"dataframe\">\n",
       "  <thead>\n",
       "    <tr style=\"text-align: right;\">\n",
       "      <th></th>\n",
       "      <th>test_precision</th>\n",
       "      <th>test_recall</th>\n",
       "      <th>test_f1</th>\n",
       "      <th>test_accuracy</th>\n",
       "    </tr>\n",
       "  </thead>\n",
       "  <tbody>\n",
       "    <tr>\n",
       "      <th>DecisionTreeClassifier</th>\n",
       "      <td>0.750586</td>\n",
       "      <td>0.7100</td>\n",
       "      <td>0.727196</td>\n",
       "      <td>0.73625</td>\n",
       "    </tr>\n",
       "    <tr>\n",
       "      <th>KNeighborsClassifier</th>\n",
       "      <td>0.746381</td>\n",
       "      <td>0.8425</td>\n",
       "      <td>0.791082</td>\n",
       "      <td>0.77750</td>\n",
       "    </tr>\n",
       "    <tr>\n",
       "      <th>RandomForestClassifier</th>\n",
       "      <td>0.803221</td>\n",
       "      <td>0.8300</td>\n",
       "      <td>0.815405</td>\n",
       "      <td>0.81250</td>\n",
       "    </tr>\n",
       "  </tbody>\n",
       "</table>\n",
       "</div>"
      ],
      "text/plain": [
       "                        test_precision  test_recall   test_f1  test_accuracy\n",
       "DecisionTreeClassifier        0.750586       0.7100  0.727196        0.73625\n",
       "KNeighborsClassifier          0.746381       0.8425  0.791082        0.77750\n",
       "RandomForestClassifier        0.803221       0.8300  0.815405        0.81250"
      ]
     },
     "execution_count": 39,
     "metadata": {},
     "output_type": "execute_result"
    }
   ],
   "source": [
    "model_comparison_df = pd.DataFrame.from_dict(model_comparison).T\n",
    "model_comparison_df = model_comparison_df.sort_values('test_f1', ascending=True)\n",
    "model_comparison_df"
   ]
  },
  {
   "cell_type": "markdown",
   "id": "6e23bc33",
   "metadata": {},
   "source": [
    "# 4. Insights"
   ]
  },
  {
   "cell_type": "markdown",
   "id": "b808d881",
   "metadata": {},
   "source": [
    "1. As we compare the three models Random Forest Classifier outperforms Decision Tree and KNN classifier in terms of precision, recall, f1, roc, auc score and accuracy.\n",
    "2. False Positive means a patient will be falsely reported that he/she has diabetes.\n",
    "3. False Negative means a patient who is positive remains undiagnosed which can have deadly repurcussions, hence Type II error and False Negative is riskier in this scenario.\n",
    "4. Since the data was imbalanced, Presicion-Recall/AP Curve is the best metric to compare algorithms.\n",
    "5. Precision is accuracy of the positive predictions\n",
    "6. Recall is fraction of the positives correctly identified\n",
    "7. F1 score takes both Precision and Recall into account."
   ]
  }
 ],
 "metadata": {
  "kernelspec": {
   "display_name": "Python 3 (ipykernel)",
   "language": "python",
   "name": "python3"
  },
  "language_info": {
   "codemirror_mode": {
    "name": "ipython",
    "version": 3
   },
   "file_extension": ".py",
   "mimetype": "text/x-python",
   "name": "python",
   "nbconvert_exporter": "python",
   "pygments_lexer": "ipython3",
   "version": "3.9.7"
  }
 },
 "nbformat": 4,
 "nbformat_minor": 5
}
